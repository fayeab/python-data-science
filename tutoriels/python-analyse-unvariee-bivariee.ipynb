{
 "cells": [
  {
   "cell_type": "markdown",
   "metadata": {},
   "source": [
    "# Analyse univariée et bivariée"
   ]
  },
  {
   "cell_type": "markdown",
   "metadata": {},
   "source": [
    "**Importation des données**"
   ]
  },
  {
   "cell_type": "code",
   "execution_count": 1,
   "metadata": {},
   "outputs": [
    {
     "data": {
      "text/plain": [
       "(1063, 54)"
      ]
     },
     "execution_count": 1,
     "metadata": {},
     "output_type": "execute_result"
    }
   ],
   "source": [
    "import scipy\n",
    "import numpy as np\n",
    "import pandas as pd\n",
    "import seaborn as sns\n",
    "from pylab import rcParams\n",
    "import matplotlib.pyplot as plt\n",
    "from statsmodels.graphics.mosaicplot import mosaic\n",
    "import warnings\n",
    "%matplotlib inline\n",
    "\n",
    "warnings.filterwarnings('ignore')\n",
    "sns.set()\n",
    "\n",
    "figsize = (8, 7)\n",
    "rcParams['figure.figsize'] = figsize\n",
    "\n",
    "data = pd.read_table(\"data/vispremv.dat\", sep=' ')\n",
    "data.columns = data.columns.str.upper()\n",
    "data.shape"
   ]
  },
  {
   "cell_type": "markdown",
   "metadata": {},
   "source": [
    "Les données proviennent du Github de [Wikistat](http://wikistat.fr/). Nous utiliserons les variables suivantes : \n",
    "* **FAMIQ** : Situation familiale\n",
    "* **SEXEQ** : Sexe (qualitatif)\n",
    "* **AGER** : Age en années\n",
    "* **PCSPQ** : Catégorie socio-professionnelle (code num)\n",
    "* **MOYRVL** : Moyenne des mouvements nets créditeurs des 3 mois en Kf\n",
    "* **CARVP** : Possession de la carte VISA Premier"
   ]
  },
  {
   "cell_type": "markdown",
   "metadata": {},
   "source": [
    "## 1. Analyse univariée\n",
    "\n",
    "L'analyse descriptive fournit un résumé synthétique des variables quantitatives et qualitatives. On parle d'analyse univariée lorsqu'on étudie les variables séparément.\n",
    "\n",
    "### A. Variable quantitative\n",
    "\n",
    "#### a. Tendance centrale\n",
    "\n",
    "La tendance centrale est une valeur qui résume la série statistique :\n",
    "\n",
    "* **Moyenne** : La moyenne indique la tendance centrale d'une série statistique.  Elle est égale la somme des observations divisée par l’effectif. Elle est très sensible aux valeurs extrêmes \n",
    "* **Médiane** : Comme la moyenne, la médiane fournit égale une tendance centrale d'une série. Elle correspond à la valeur qui divise la série en parties d'effectif égal. Elle est plus robuste en face valeurs extrêmes.\n",
    "* **1er quartile** : C'est la valeur qui sépare les 25% inférieurs des données.\n",
    "* **3ème quartile** : C'est la valeur qui sépare les 75% inférieurs des données.\n",
    "* **Mode** : Le mode d'une série statistique, est la valeur observée la plus fréquente"
   ]
  },
  {
   "cell_type": "code",
   "execution_count": 2,
   "metadata": {},
   "outputs": [
    {
     "name": "stdout",
     "output_type": "stream",
     "text": [
      "Variable age : \n",
      "Moyenne =       42.57\n",
      "Mediane =       43\n",
      "Mode =          42\n",
      "1er quartile =  52\n",
      "3ème quartile = 33\n"
     ]
    }
   ],
   "source": [
    "print('Variable age : ')\n",
    "print('Moyenne = {:>11}'.format(round(data.AGER.mean(), 2)))\n",
    "print('Mediane = {:>8}'.format(int(data.AGER.median())))\n",
    "print('Mode = {:>11}'.format(int(data.AGER.mode())))\n",
    "print('1er quartile = {:>3}'.format(int(data.AGER.quantile(0.75))))\n",
    "print('3ème quartile = {}'.format(int(data.AGER.quantile(0.25))))"
   ]
  },
  {
   "cell_type": "markdown",
   "metadata": {},
   "source": [
    "#### b. Mesure de dispersion\n",
    "\n",
    "Les mesures de dispersion indiquent la variable de la série étudiée :\n",
    "\n",
    "* **Variance** : La variance permet de caractériser la dispersion de la série autour de la moyenne. C'est la moyenne arithmétique des carrés des écarts à la moyenne. \n",
    "* **Ecart-type** : C'est la racine carrée de la variance. Contrairement à la variance, l'écart-type a la même unité que la moyenne (on pourra les additionner).\n",
    "* **Etendue** : C'est l'écart entre la plus grande et la plus petite valeur d'une série statistique. Elle est très sensible aux valeurs extrêmes.\n",
    "* **Intervalle interquartile** : C'est l'écart entre le premier et le troisième quartile."
   ]
  },
  {
   "cell_type": "code",
   "execution_count": 3,
   "metadata": {},
   "outputs": [
    {
     "name": "stdout",
     "output_type": "stream",
     "text": [
      "Variable age : \n",
      "Variance =                141.9\n",
      "Ecart-type =               11.91\n",
      "Etendue =                  47\n",
      "Intervalle interquartile = 19\n"
     ]
    }
   ],
   "source": [
    "print('Variable age : ')\n",
    "print('Variance = {:>20}'.format(round(data.AGER.var(), 2)))\n",
    "print('Ecart-type = {:>19}'.format(round(data.AGER.std(), 2)))\n",
    "print('Etendue = {:>19}'.format(int(data.AGER.max() -  data.AGER.min())))\n",
    "print('Intervalle interquartile = {}'.format(int(data.AGER.quantile(0.75) - data.AGER.quantile(0.25))))"
   ]
  },
  {
   "cell_type": "markdown",
   "metadata": {},
   "source": [
    "#### c. Représentation graphique\n",
    "\n",
    "* **Histogramme** : Montre la répartition des données"
   ]
  },
  {
   "cell_type": "code",
   "execution_count": 4,
   "metadata": {},
   "outputs": [
    {
     "data": {
      "image/png": "[encoded data removed]",
      "text/plain": [
       "<Figure size 360x360 with 1 Axes>"
      ]
     },
     "metadata": {},
     "output_type": "display_data"
    }
   ],
   "source": [
    "_ = data[\"AGER\"].plot.hist(bins=12, figsize=(5, 5))"
   ]
  },
  {
   "cell_type": "markdown",
   "metadata": {},
   "source": [
    "* **Boite moustache** : Représente les statistiques (médiane, quartiles, minimum, maximum ou déciles) sous forme graphique"
   ]
  },
  {
   "cell_type": "code",
   "execution_count": 5,
   "metadata": {},
   "outputs": [
    {
     "data": {
      "image/png": "[encoded data removed]",
      "text/plain": [
       "<Figure size 360x360 with 1 Axes>"
      ]
     },
     "metadata": {},
     "output_type": "display_data"
    }
   ],
   "source": [
    "_ = data[\"AGER\"].plot.box(figsize=(5, 5))"
   ]
  },
  {
   "cell_type": "markdown",
   "metadata": {},
   "source": [
    "### B. Variable qualitative\n",
    "\n",
    "Le résumé d'une variable qualitative est souvent obtenu à l'aide de graphique. Cela permet :\n",
    "\n",
    "* Le mode, la modalité la plus représentée\n",
    "* Les fréquences des modalités"
   ]
  },
  {
   "cell_type": "markdown",
   "metadata": {},
   "source": [
    "* **Diagramme en barres**"
   ]
  },
  {
   "cell_type": "code",
   "execution_count": 6,
   "metadata": {},
   "outputs": [
    {
     "data": {
      "image/png": "[encoded data removed]",
      "text/plain": [
       "<Figure size 576x504 with 1 Axes>"
      ]
     },
     "metadata": {},
     "output_type": "display_data"
    }
   ],
   "source": [
    "x = data['PCSPQ'].value_counts(normalize=True).to_frame()\n",
    "ax = x.plot.bar()"
   ]
  },
  {
   "cell_type": "markdown",
   "metadata": {},
   "source": [
    "* **Diagramme en secteurs**"
   ]
  },
  {
   "cell_type": "code",
   "execution_count": 7,
   "metadata": {},
   "outputs": [
    {
     "data": {
      "image/png": "[encoded data removed]",
      "text/plain": [
       "<Figure size 504x504 with 1 Axes>"
      ]
     },
     "metadata": {},
     "output_type": "display_data"
    }
   ],
   "source": [
    "x = data['PCSPQ'].value_counts().to_frame()\n",
    "ax = x.plot.pie(subplots=True, figsize=(7, 7), autopct='%1.2f%%', legend = False, fontsize=14)"
   ]
  },
  {
   "cell_type": "markdown",
   "metadata": {},
   "source": [
    "## 2. Analyse bivariée\n",
    "\n",
    "L'analyse bivariée étudie la relation entre deux variables."
   ]
  },
  {
   "cell_type": "markdown",
   "metadata": {},
   "source": [
    "## A. Entre deux variables quantitatives\n",
    "\n",
    "* **Coefficient de corrélation de Pearson** : permet savoir s'il existe une relation linéaire entre deux variables quantitatives :\n",
    " * proche de 1 :  forte relation linéaire positive\n",
    " * proche de 0 : absence de relation linéaire \n",
    " * proche de -1 : forte relation linéaire négative"
   ]
  },
  {
   "cell_type": "code",
   "execution_count": 8,
   "metadata": {},
   "outputs": [
    {
     "name": "stdout",
     "output_type": "stream",
     "text": [
      "Correlation de Pearson : 0.208\n"
     ]
    }
   ],
   "source": [
    "from scipy.stats import pearsonr\n",
    "corr, _ = pearsonr(data[\"MOYRVL\"], data[\"AGER\"])\n",
    "print('Correlation de Pearson : {:.3f}'.format(corr))"
   ]
  },
  {
   "cell_type": "markdown",
   "metadata": {},
   "source": [
    "* Le **coefficient de Spearman** permet de détecter des tendances monotones et a la même interprétation que celui de Pearson."
   ]
  },
  {
   "cell_type": "code",
   "execution_count": 9,
   "metadata": {},
   "outputs": [
    {
     "name": "stdout",
     "output_type": "stream",
     "text": [
      "Correlation de Spearman : 0.220\n"
     ]
    }
   ],
   "source": [
    "from scipy.stats import spearmanr\n",
    "corr, _ = spearmanr(data[\"MOYRVL\"], data[\"AGER\"])\n",
    "print('Correlation de Spearman : {:.3f}'.format(corr))"
   ]
  },
  {
   "cell_type": "markdown",
   "metadata": {},
   "source": [
    "* **Nuage de point**"
   ]
  },
  {
   "cell_type": "code",
   "execution_count": 10,
   "metadata": {},
   "outputs": [
    {
     "data": {
      "image/png": "[encoded data removed]",
      "text/plain": [
       "<Figure size 576x504 with 1 Axes>"
      ]
     },
     "metadata": {},
     "output_type": "display_data"
    }
   ],
   "source": [
    "_ = sns.regplot(x=data[\"MOYRVL\"], y=data[\"AGER\"], fit_reg=False)"
   ]
  },
  {
   "cell_type": "markdown",
   "metadata": {},
   "source": [
    "## B. Entre deux variables qualitatives"
   ]
  },
  {
   "cell_type": "markdown",
   "metadata": {},
   "source": [
    "* **Tableau de contingence** "
   ]
  },
  {
   "cell_type": "code",
   "execution_count": 11,
   "metadata": {},
   "outputs": [
    {
     "data": {
      "text/html": [
       "<div>\n",
       "<style scoped>\n",
       "    .dataframe tbody tr th:only-of-type {\n",
       "        vertical-align: middle;\n",
       "    }\n",
       "\n",
       "    .dataframe tbody tr th {\n",
       "        vertical-align: top;\n",
       "    }\n",
       "\n",
       "    .dataframe thead th {\n",
       "        text-align: right;\n",
       "    }\n",
       "</style>\n",
       "<table border=\"1\" class=\"dataframe\">\n",
       "  <thead>\n",
       "    <tr style=\"text-align: right;\">\n",
       "      <th>CARVP</th>\n",
       "      <th>Cnon</th>\n",
       "      <th>Coui</th>\n",
       "    </tr>\n",
       "    <tr>\n",
       "      <th>SEXEQ</th>\n",
       "      <th></th>\n",
       "      <th></th>\n",
       "    </tr>\n",
       "  </thead>\n",
       "  <tbody>\n",
       "    <tr>\n",
       "      <th>Sfem</th>\n",
       "      <td>346</td>\n",
       "      <td>56</td>\n",
       "    </tr>\n",
       "    <tr>\n",
       "      <th>Shom</th>\n",
       "      <td>360</td>\n",
       "      <td>301</td>\n",
       "    </tr>\n",
       "  </tbody>\n",
       "</table>\n",
       "</div>"
      ],
      "text/plain": [
       "CARVP  Cnon  Coui\n",
       "SEXEQ            \n",
       "Sfem    346    56\n",
       "Shom    360   301"
      ]
     },
     "execution_count": 11,
     "metadata": {},
     "output_type": "execute_result"
    }
   ],
   "source": [
    "pd.crosstab(data['SEXEQ'], data['CARVP'])"
   ]
  },
  {
   "cell_type": "markdown",
   "metadata": {},
   "source": [
    "* **Tableau de contingence en fréquence** "
   ]
  },
  {
   "cell_type": "markdown",
   "metadata": {},
   "source": [
    "Profils ligne"
   ]
  },
  {
   "cell_type": "code",
   "execution_count": 12,
   "metadata": {},
   "outputs": [
    {
     "data": {
      "text/html": [
       "<div>\n",
       "<style scoped>\n",
       "    .dataframe tbody tr th:only-of-type {\n",
       "        vertical-align: middle;\n",
       "    }\n",
       "\n",
       "    .dataframe tbody tr th {\n",
       "        vertical-align: top;\n",
       "    }\n",
       "\n",
       "    .dataframe thead th {\n",
       "        text-align: right;\n",
       "    }\n",
       "</style>\n",
       "<table border=\"1\" class=\"dataframe\">\n",
       "  <thead>\n",
       "    <tr style=\"text-align: right;\">\n",
       "      <th>CARVP</th>\n",
       "      <th>Cnon</th>\n",
       "      <th>Coui</th>\n",
       "    </tr>\n",
       "    <tr>\n",
       "      <th>SEXEQ</th>\n",
       "      <th></th>\n",
       "      <th></th>\n",
       "    </tr>\n",
       "  </thead>\n",
       "  <tbody>\n",
       "    <tr>\n",
       "      <th>Sfem</th>\n",
       "      <td>0.860697</td>\n",
       "      <td>0.139303</td>\n",
       "    </tr>\n",
       "    <tr>\n",
       "      <th>Shom</th>\n",
       "      <td>0.544629</td>\n",
       "      <td>0.455371</td>\n",
       "    </tr>\n",
       "  </tbody>\n",
       "</table>\n",
       "</div>"
      ],
      "text/plain": [
       "CARVP      Cnon      Coui\n",
       "SEXEQ                    \n",
       "Sfem   0.860697  0.139303\n",
       "Shom   0.544629  0.455371"
      ]
     },
     "execution_count": 12,
     "metadata": {},
     "output_type": "execute_result"
    }
   ],
   "source": [
    "pd.crosstab(data['SEXEQ'], data['CARVP'], normalize='index')"
   ]
  },
  {
   "cell_type": "markdown",
   "metadata": {},
   "source": [
    "Profils colonne"
   ]
  },
  {
   "cell_type": "code",
   "execution_count": 13,
   "metadata": {},
   "outputs": [
    {
     "data": {
      "text/html": [
       "<div>\n",
       "<style scoped>\n",
       "    .dataframe tbody tr th:only-of-type {\n",
       "        vertical-align: middle;\n",
       "    }\n",
       "\n",
       "    .dataframe tbody tr th {\n",
       "        vertical-align: top;\n",
       "    }\n",
       "\n",
       "    .dataframe thead th {\n",
       "        text-align: right;\n",
       "    }\n",
       "</style>\n",
       "<table border=\"1\" class=\"dataframe\">\n",
       "  <thead>\n",
       "    <tr style=\"text-align: right;\">\n",
       "      <th>CARVP</th>\n",
       "      <th>Cnon</th>\n",
       "      <th>Coui</th>\n",
       "    </tr>\n",
       "    <tr>\n",
       "      <th>SEXEQ</th>\n",
       "      <th></th>\n",
       "      <th></th>\n",
       "    </tr>\n",
       "  </thead>\n",
       "  <tbody>\n",
       "    <tr>\n",
       "      <th>Sfem</th>\n",
       "      <td>0.490085</td>\n",
       "      <td>0.156863</td>\n",
       "    </tr>\n",
       "    <tr>\n",
       "      <th>Shom</th>\n",
       "      <td>0.509915</td>\n",
       "      <td>0.843137</td>\n",
       "    </tr>\n",
       "  </tbody>\n",
       "</table>\n",
       "</div>"
      ],
      "text/plain": [
       "CARVP      Cnon      Coui\n",
       "SEXEQ                    \n",
       "Sfem   0.490085  0.156863\n",
       "Shom   0.509915  0.843137"
      ]
     },
     "execution_count": 13,
     "metadata": {},
     "output_type": "execute_result"
    }
   ],
   "source": [
    "pd.crosstab(data['SEXEQ'], data['CARVP'], normalize='columns')"
   ]
  },
  {
   "cell_type": "markdown",
   "metadata": {},
   "source": [
    "* **Représentation graphique**  "
   ]
  },
  {
   "cell_type": "code",
   "execution_count": 14,
   "metadata": {},
   "outputs": [
    {
     "data": {
      "image/png": "[encoded data removed]",
      "text/plain": [
       "<Figure size 576x504 with 3 Axes>"
      ]
     },
     "metadata": {},
     "output_type": "display_data"
    }
   ],
   "source": [
    "mosaic(data, ['SEXEQ', 'CARVP'])\n",
    "plt.show()"
   ]
  },
  {
   "cell_type": "markdown",
   "metadata": {},
   "source": [
    "* **Test d'indépendance du khi** : permet de tester s'il y a une liaison entre deux variables qualitatives.  \n",
    "\n",
    "Exemple : Le sexe a-t-il un lien avec une possession d'une carte visa premier.   \n",
    "\n",
    "**H0** : il n'y a pas de différence entre les proportions des deux groupes (La possession d'une carte visa premier ne dépend pas de sexe)"
   ]
  },
  {
   "cell_type": "code",
   "execution_count": 15,
   "metadata": {},
   "outputs": [
    {
     "data": {
      "text/html": [
       "<div>\n",
       "<style scoped>\n",
       "    .dataframe tbody tr th:only-of-type {\n",
       "        vertical-align: middle;\n",
       "    }\n",
       "\n",
       "    .dataframe tbody tr th {\n",
       "        vertical-align: top;\n",
       "    }\n",
       "\n",
       "    .dataframe thead th {\n",
       "        text-align: right;\n",
       "    }\n",
       "</style>\n",
       "<table border=\"1\" class=\"dataframe\">\n",
       "  <thead>\n",
       "    <tr style=\"text-align: right;\">\n",
       "      <th>CARVP</th>\n",
       "      <th>Cnon</th>\n",
       "      <th>Coui</th>\n",
       "    </tr>\n",
       "    <tr>\n",
       "      <th>SEXEQ</th>\n",
       "      <th></th>\n",
       "      <th></th>\n",
       "    </tr>\n",
       "  </thead>\n",
       "  <tbody>\n",
       "    <tr>\n",
       "      <th>Sfem</th>\n",
       "      <td>346</td>\n",
       "      <td>56</td>\n",
       "    </tr>\n",
       "    <tr>\n",
       "      <th>Shom</th>\n",
       "      <td>360</td>\n",
       "      <td>301</td>\n",
       "    </tr>\n",
       "  </tbody>\n",
       "</table>\n",
       "</div>"
      ],
      "text/plain": [
       "CARVP  Cnon  Coui\n",
       "SEXEQ            \n",
       "Sfem    346    56\n",
       "Shom    360   301"
      ]
     },
     "execution_count": 15,
     "metadata": {},
     "output_type": "execute_result"
    }
   ],
   "source": [
    "tbc = pd.crosstab(data['SEXEQ'], data['CARVP'])\n",
    "tbc"
   ]
  },
  {
   "cell_type": "code",
   "execution_count": 16,
   "metadata": {},
   "outputs": [
    {
     "name": "stdout",
     "output_type": "stream",
     "text": [
      "Statistique khi2 = 110.54\n",
      "La p-value = 0.0000\n"
     ]
    }
   ],
   "source": [
    "from scipy.stats import chi2_contingency\n",
    "st_chi2, st_p, st_dof, st_exp = chi2_contingency(tbc)\n",
    "\n",
    "print('Statistique khi2 = {:.2f}'.format(st_chi2))\n",
    "print('La p-value = {:.4f}'.format(st_p))"
   ]
  },
  {
   "cell_type": "markdown",
   "metadata": {},
   "source": [
    "La p-valeur est inférieure à 5%. On rejette H0, il y a une différence significative les deux groupes étudiés."
   ]
  },
  {
   "cell_type": "markdown",
   "metadata": {},
   "source": [
    "## C. Entre une variable quantitative et une variable qualitative"
   ]
  },
  {
   "cell_type": "markdown",
   "metadata": {},
   "source": [
    "**Comparaison de la distribution des groupes**"
   ]
  },
  {
   "cell_type": "markdown",
   "metadata": {},
   "source": [
    "* **Boxplot par catégorie** "
   ]
  },
  {
   "cell_type": "code",
   "execution_count": 17,
   "metadata": {},
   "outputs": [
    {
     "data": {
      "image/png": "[encoded data removed]",
      "text/plain": [
       "<Figure size 576x504 with 1 Axes>"
      ]
     },
     "metadata": {},
     "output_type": "display_data"
    }
   ],
   "source": [
    "_ = sns.boxplot(y=data['AGER'], x=data['CARVP'])"
   ]
  },
  {
   "cell_type": "markdown",
   "metadata": {},
   "source": [
    "* **Histogramme par catégorie** "
   ]
  },
  {
   "cell_type": "code",
   "execution_count": 18,
   "metadata": {},
   "outputs": [
    {
     "data": {
      "image/png": "[encoded data removed]",
      "text/plain": [
       "<Figure size 425.975x360 with 1 Axes>"
      ]
     },
     "metadata": {},
     "output_type": "display_data"
    }
   ],
   "source": [
    "_ = sns.displot(data, x=\"AGER\", hue=\"CARVP\", bins=8)"
   ]
  },
  {
   "cell_type": "markdown",
   "metadata": {},
   "source": [
    "**Tests statitisques**"
   ]
  },
  {
   "cell_type": "markdown",
   "metadata": {},
   "source": [
    "**Exemple : Test de comparaison des âges entre ceux qui ont une carte visa premier et n'en ont pas**"
   ]
  },
  {
   "cell_type": "code",
   "execution_count": 19,
   "metadata": {},
   "outputs": [],
   "source": [
    "x = data[\"AGER\"][data[\"CARVP\"] == 'Coui']\n",
    "y = data[\"AGER\"][data[\"CARVP\"] == 'Cnon']"
   ]
  },
  {
   "cell_type": "markdown",
   "metadata": {},
   "source": [
    "Testons d'abord la normalité des distributions des groupes"
   ]
  },
  {
   "cell_type": "code",
   "execution_count": 20,
   "metadata": {},
   "outputs": [
    {
     "data": {
      "text/plain": [
       "ShapiroResult(statistic=0.9801973104476929, pvalue=8.051740587688982e-05)"
      ]
     },
     "execution_count": 20,
     "metadata": {},
     "output_type": "execute_result"
    }
   ],
   "source": [
    "scipy.stats.shapiro(x)"
   ]
  },
  {
   "cell_type": "code",
   "execution_count": 21,
   "metadata": {},
   "outputs": [
    {
     "data": {
      "text/plain": [
       "ShapiroResult(statistic=0.9646815657615662, pvalue=5.1695310358812474e-12)"
      ]
     },
     "execution_count": 21,
     "metadata": {},
     "output_type": "execute_result"
    }
   ],
   "source": [
    "scipy.stats.shapiro(y)"
   ]
  },
  {
   "cell_type": "markdown",
   "metadata": {},
   "source": [
    "Les p-value étant très faible, on rejette l’hypothèse d’une normalité des deux distributions. Nous appliquons le test de Mann-Whitney pour comparer les deux médianes."
   ]
  },
  {
   "cell_type": "code",
   "execution_count": 22,
   "metadata": {},
   "outputs": [
    {
     "data": {
      "text/plain": [
       "MannwhitneyuResult(statistic=108520.5, pvalue=0.00010655693472578946)"
      ]
     },
     "execution_count": 22,
     "metadata": {},
     "output_type": "execute_result"
    }
   ],
   "source": [
    "scipy.stats.mannwhitneyu(x, y)"
   ]
  },
  {
   "cell_type": "markdown",
   "metadata": {},
   "source": [
    "L'hypothèse nulle d'égalité des médianes des deux groupes est rejeté car la p-value est très faible."
   ]
  },
  {
   "cell_type": "markdown",
   "metadata": {},
   "source": [
    "**Références** :    \n",
    "[Virginie Jourdan : Statistiques bivariées](http://sspsd.u-strasbg.fr/IMG/pdf/Cours_seance_1_et_2.pdf)     \n",
    "[Wikistat: Statistique & Machine Learning de Statisticien à Data Scientist](http://wikistat.fr/)"
   ]
  }
 ],
 "metadata": {
  "kernelspec": {
   "display_name": "Python 3",
   "language": "python",
   "name": "python3"
  },
  "language_info": {
   "codemirror_mode": {
    "name": "ipython",
    "version": 3
   },
   "file_extension": ".py",
   "mimetype": "text/x-python",
   "name": "python",
   "nbconvert_exporter": "python",
   "pygments_lexer": "ipython3",
   "version": "3.7.9"
  }
 },
 "nbformat": 4,
 "nbformat_minor": 2
}
